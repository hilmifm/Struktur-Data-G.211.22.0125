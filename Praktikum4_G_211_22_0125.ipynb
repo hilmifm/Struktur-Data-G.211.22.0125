{
  "nbformat": 4,
  "nbformat_minor": 0,
  "metadata": {
    "colab": {
      "provenance": [],
      "authorship_tag": "ABX9TyMX41vEL7NUyUM22FjRIc+j"
    },
    "kernelspec": {
      "name": "python3",
      "display_name": "Python 3"
    },
    "language_info": {
      "name": "python"
    }
  },
  "cells": [
    {
      "cell_type": "code",
      "execution_count": null,
      "metadata": {
        "id": "ljvOw-XXQZIG",
        "colab": {
          "base_uri": "https://localhost:8080/"
        },
        "outputId": "b92929cd-1119-49af-b45b-cad95bf7e32a"
      },
      "outputs": [
        {
          "output_type": "stream",
          "name": "stdout",
          "text": [
            "Masukkan sebuah kalimat: The quick brown fox jumps over the lazy dog\n",
            "Kalimat ini adalah sebuah pangram.\n",
            "Kode telah disimpan dalam file 'Praktikum4_NIM.ipynb'.\n"
          ]
        }
      ],
      "source": [
        "# Algoritma untuk Membuat Pangram\n",
        "def is_pangram(sentence):\n",
        "    # Inisialisasi set kosong\n",
        "    alphabet_set = set()\n",
        "\n",
        "    # Mengubah kalimat menjadi huruf kecil\n",
        "    sentence = sentence.lower()\n",
        "\n",
        "    # Iterasi melalui setiap karakter dalam kalimat\n",
        "    for char in sentence:\n",
        "        if char.isalpha():\n",
        "            alphabet_set.add(char)\n",
        "\n",
        "    # Periksa apakah set berisi 26 huruf (a-z)\n",
        "    return len(alphabet_set) == 26\n",
        "\n",
        "# Input kalimat dari pengguna\n",
        "kalimat = input(\"Masukkan sebuah kalimat: \")\n",
        "\n",
        "# Mengecek apakah kalimat adalah pangram\n",
        "if is_pangram(kalimat):\n",
        "    print(\"Kalimat ini adalah sebuah pangram.\")\n",
        "else:\n",
        "    print(\"Kalimat ini bukan sebuah pangram.\")\n",
        "\n",
        "# Simpan kode ini dalam file \"Praktikum4_NIM.ipynb\"\n",
        "with open(\"Praktikum4_NIM.ipynb\", \"w\") as file:\n",
        "    code = \"\"\"\n",
        "# Algoritma untuk Membuat Pangram\n",
        "def is_pangram(sentence):\n",
        "    # Inisialisasi set kosong\n",
        "    alphabet_set = set()\n",
        "\n",
        "    # Mengubah kalimat menjadi huruf kecil\n",
        "    sentence = sentence.lower()\n",
        "\n",
        "    # Iterasi melalui setiap karakter dalam kalimat\n",
        "    for char in sentence:\n",
        "        if char.isalpha():\n",
        "            alphabet_set.add(char)\n",
        "\n",
        "    # Periksa apakah set berisi 26 huruf (a-z)\n",
        "    return len(alphabet_set) == 26\n",
        "\n",
        "# Input kalimat dari pengguna\n",
        "kalimat = input(\"The quick brown fox jumps over the lazy dog\")\n",
        "\n",
        "# Mengecek apakah kalimat adalah pangram\n",
        "if is_pangram(kalimat):\n",
        "    print(\"Kalimat ini adalah sebuah pangram.\")\n",
        "else:\n",
        "    print(\"Kalimat ini bukan sebuah pangram.\")\n",
        "\"\"\"\n",
        "    file.write(code)\n",
        "\n",
        "print(\"Kode telah disimpan dalam file 'Praktikum4_NIM.ipynb'.\")\n"
      ]
    },
    {
      "cell_type": "code",
      "source": [],
      "metadata": {
        "id": "gbv4zeJDQjIK"
      },
      "execution_count": null,
      "outputs": []
    }
  ]
}